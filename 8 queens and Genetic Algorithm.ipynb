{
 "cells": [
  {
   "cell_type": "code",
   "execution_count": null,
   "metadata": {},
   "outputs": [],
   "source": [
    "NUM_QUEENS = 8\n",
    "POPULATION_SIZE = 10\n",
    "MIXING_NUMBER = 2\n",
    "MUTATION_RATE = 0.05\n",
    "\n"
   ]
  },
  {
   "cell_type": "code",
   "execution_count": null,
   "metadata": {},
   "outputs": [],
   "source": [
    "def fitness_score(seq):\n",
    "    score = 0\n",
    "    \n",
    "    for row in range(NUM_QUEENS):\n",
    "        col = seq[row]\n",
    "        \n",
    "        for other_row in range(NUM_QUEENS):\n",
    "            if other_row == row:\n",
    "                continue\n",
    "            if seq[other_row] == col:\n",
    "                continue\n",
    "            if other_row + seq[other_row] == row + col:\n",
    "                continue\n",
    "            if other_row - seq[other_row] == row - col:\n",
    "                continue\n",
    "            score += 1\n",
    "    return score/2\n"
   ]
  },
  {
   "cell_type": "code",
   "execution_count": null,
   "metadata": {},
   "outputs": [],
   "source": [
    "import random\n",
    "\n",
    "def selection(population):\n",
    "    parents = random.sample(population, POPULATION_SIZE // 2)\n",
    "\n",
    "    sorted_parents = sorted(parents, key=lambda parent: fitness_score(parent), reverse=True)\n",
    "    \n",
    "    return sorted_parents[:len(parents)]"
   ]
  },
  {
   "cell_type": "code",
   "execution_count": null,
   "metadata": {},
   "outputs": [],
   "source": [
    "import itertools\n",
    "\n",
    "def crossover(parents):\n",
    "    cross_points = random.sample(range(NUM_QUEENS), MIXING_NUMBER - 1)\n",
    "    offsprings = []\n",
    "    permutations = list(itertools.permutations(parents, MIXING_NUMBER))\n",
    "    \n",
    "    for perm in permutations:\n",
    "        offspring = []\n",
    "        start_pt = 0\n",
    "        \n",
    "\n",
    "        for parent_idx, cross_point in enumerate(cross_points): #doesn't account for last parent\n",
    "            parent_part = perm[parent_idx][start_pt:cross_point]\n",
    "            offspring.append(parent_part)\n",
    "            start_pt = cross_point\n",
    "            \n",
    "        #last parent\n",
    "        last_parent = perm[-1]\n",
    "        parent_part = last_parent[cross_point:]\n",
    "        offspring.append(parent_part)\n",
    "        offsprings.append(list(itertools.chain(*offspring)))\n",
    "    \n",
    "    return offsprings"
   ]
  },
  {
   "cell_type": "code",
   "execution_count": null,
   "metadata": {},
   "outputs": [],
   "source": [
    "def mutate(seq):\n",
    "    for row in range(len(seq)):\n",
    "        if random.random() < MUTATION_RATE:\n",
    "            seq[row] = random.randrange(NUM_QUEENS)\n",
    "    \n",
    "    return seq"
   ]
  },
  {
   "cell_type": "code",
   "execution_count": null,
   "metadata": {},
   "outputs": [],
   "source": [
    "def print_found_goal(population):\n",
    "    for ind in population:\n",
    "        score = fitness_score(ind)\n",
    "        print(f'{ind}. Score: {score}')\n",
    "        if score == NUM_QUEENS * (NUM_QUEENS - 1):\n",
    "            return True\n",
    "    \n",
    "    print('Solution not found')\n",
    "    return False"
   ]
  },
  {
   "cell_type": "code",
   "execution_count": null,
   "metadata": {
    "scrolled": true
   },
   "outputs": [],
   "source": [
    "def evolution(population):\n",
    "    #select individuals to become parents\n",
    "    parents = selection(population)\n",
    "\n",
    "    #recombination. Create new offsprings\n",
    "    offsprings = crossover(parents)\n",
    "\n",
    "    #mutation\n",
    "    offsprings = list(map(mutate, offsprings))\n",
    "\n",
    "    #introduce top-scoring individuals from previous generation and keep top fitness individuals\n",
    "    new_gen = offsprings\n",
    "\n",
    "    for ind in population:\n",
    "        new_gen.append(ind)\n",
    "\n",
    "    new_gen = sorted(new_gen, key=lambda ind: fitness_score(ind), reverse=True)[:POPULATION_SIZE]\n",
    "\n",
    "    return new_gen\n"
   ]
  },
  {
   "cell_type": "code",
   "execution_count": null,
   "metadata": {},
   "outputs": [],
   "source": [
    "generation = 0\n",
    "\n",
    "#generate random population\n",
    "population = []\n",
    "\n",
    "for individual in range(POPULATION_SIZE):\n",
    "    new = [random.randrange(NUM_QUEENS) for idx in range(NUM_QUEENS)]\n",
    "    population.append(new)\n",
    "    \n",
    "while generation < 1000:\n",
    "    print(f'Generation: {generation}')\n",
    "    print_found_goal(population)\n",
    "    population = evolution(population)\n",
    "    generation += 1"
   ]
  },
  {
   "cell_type": "code",
   "execution_count": null,
   "metadata": {},
   "outputs": [],
   "source": []
  }
 ],
 "metadata": {
  "kernelspec": {
   "display_name": "Python 3",
   "language": "python",
   "name": "python3"
  },
  "language_info": {
   "codemirror_mode": {
    "name": "ipython",
    "version": 3
   },
   "file_extension": ".py",
   "mimetype": "text/x-python",
   "name": "python",
   "nbconvert_exporter": "python",
   "pygments_lexer": "ipython3",
   "version": "3.7.4"
  }
 },
 "nbformat": 4,
 "nbformat_minor": 2
}
